{
 "cells": [
  {
   "cell_type": "code",
   "execution_count": 1,
   "id": "9d29a8cd",
   "metadata": {},
   "outputs": [],
   "source": [
    "from sklearn.feature_extraction.text import TfidfVectorizer\n",
    "from sklearn.decomposition import FactorAnalysis\n",
    "from sklearn.cluster import KMeans\n",
    "from sklearn.pipeline import make_pipeline\n",
    "from sklearn.datasets import fetch_20newsgroups\n",
    "import pandas as pd\n",
    "import numpy as np\n",
    "\n"
   ]
  },
  {
   "cell_type": "code",
   "execution_count": 2,
   "id": "69e9941c",
   "metadata": {},
   "outputs": [],
   "source": [
    "ng20 = fetch_20newsgroups(subset='test')\n",
    "corpus = ng20.data[:2000]\n",
    "labels = ng20.target[:2000]"
   ]
  },
  {
   "cell_type": "code",
   "execution_count": 3,
   "id": "fc6286c9",
   "metadata": {},
   "outputs": [],
   "source": [
    "tfidf_vectorizer = TfidfVectorizer(max_features=5000, stop_words='english')\n",
    "tfidf_matrix = tfidf_vectorizer.fit_transform(corpus)\n"
   ]
  },
  {
   "cell_type": "code",
   "execution_count": 4,
   "id": "861bd3a5",
   "metadata": {},
   "outputs": [],
   "source": [
    "n_components = 20\n",
    "afc = FactorAnalysis(n_components=n_components)\n",
    "reduced_features = afc.fit_transform(tfidf_matrix.toarray())\n"
   ]
  },
  {
   "cell_type": "code",
   "execution_count": 5,
   "id": "367eccf7",
   "metadata": {},
   "outputs": [],
   "source": [
    "k_clusters = 3\n",
    "kmeans = KMeans(n_clusters=k_clusters, random_state=42)\n",
    "labels_pred = kmeans.fit_predict(reduced_features)\n"
   ]
  },
  {
   "cell_type": "code",
   "execution_count": 6,
   "id": "bcfcfd8e",
   "metadata": {},
   "outputs": [
    {
     "name": "stdout",
     "output_type": "stream",
     "text": [
      "Accuracy: 0.0395\n",
      "Adjusted Rand Index: 2.5722961463258288e-05\n",
      "Normalized Mutual Information: 0.004047766711416598\n"
     ]
    }
   ],
   "source": [
    "from sklearn.metrics import accuracy_score, adjusted_rand_score, normalized_mutual_info_score\n",
    "\n",
    "accuracy = accuracy_score(labels, labels_pred)\n",
    "ari = adjusted_rand_score(labels, labels_pred)\n",
    "nmi = normalized_mutual_info_score(labels, labels_pred)\n",
    "\n",
    "print(f\"Accuracy: {accuracy}\")\n",
    "print(f\"Adjusted Rand Index: {ari}\")\n",
    "print(f\"Normalized Mutual Information: {nmi}\")\n"
   ]
  },
  {
   "cell_type": "code",
   "execution_count": 7,
   "id": "92fbabd8",
   "metadata": {},
   "outputs": [
    {
     "name": "stdout",
     "output_type": "stream",
     "text": [
      "      Document  True Label  Predicted Label\n",
      "0            0           7                0\n",
      "1            1           5                0\n",
      "2            2           0                0\n",
      "3            3          17                0\n",
      "4            4          19                0\n",
      "...        ...         ...              ...\n",
      "1995      1995          12                0\n",
      "1996      1996          16                0\n",
      "1997      1997          11                0\n",
      "1998      1998           2                0\n",
      "1999      1999           3                0\n",
      "\n",
      "[2000 rows x 3 columns]\n"
     ]
    },
    {
     "data": {
      "image/png": "[encoded data removed]",
      "text/plain": [
       "<Figure size 432x288 with 1 Axes>"
      ]
     },
     "metadata": {
      "needs_background": "light"
     },
     "output_type": "display_data"
    }
   ],
   "source": [
    "results = pd.DataFrame({'Document': range(len(corpus)), 'True Label': labels, 'Predicted Label': labels_pred})\n",
    "print(results)\n",
    "\n",
    "import matplotlib.pyplot as plt\n",
    "\n",
    "plt.scatter(reduced_features[:, 0], reduced_features[:, 1], c=labels_pred, cmap='viridis', alpha=0.5)\n",
    "plt.title('Clustering Results')\n",
    "plt.xlabel('Principal Component 1')\n",
    "plt.ylabel('Principal Component 2')\n",
    "plt.show()"
   ]
  }
 ],
 "metadata": {
  "kernelspec": {
   "display_name": "Python 3 (ipykernel)",
   "language": "python",
   "name": "python3"
  },
  "language_info": {
   "codemirror_mode": {
    "name": "ipython",
    "version": 3
   },
   "file_extension": ".py",
   "mimetype": "text/x-python",
   "name": "python",
   "nbconvert_exporter": "python",
   "pygments_lexer": "ipython3",
   "version": "3.9.12"
  }
 },
 "nbformat": 4,
 "nbformat_minor": 5
}
