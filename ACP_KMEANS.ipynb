{
 "cells": [
  {
   "cell_type": "code",
   "execution_count": 16,
   "id": "c9eaaaa3",
   "metadata": {},
   "outputs": [],
   "source": [
    "# import data\n",
    "from sklearn.datasets import fetch_20newsgroups\n",
    "from sklearn.metrics import normalized_mutual_info_score, adjusted_rand_score\n",
    "from sklearn.decomposition import PCA\n",
    "from sklearn.cluster import KMeans\n",
    "from sentence_transformers import SentenceTransformer\n",
    "import numpy as np\n",
    "\n",
    "import numpy as np\n",
    "\n",
    "'''\n",
    "Variables: \n",
    "---------\n",
    "\n",
    "corpus : list of documents\n",
    "embeddings : documents embeddings of size NxM (N : number of documents, M : embedding dimension) \n",
    "red_emd : reduced embeddings matrix using dimentionality reduction\n",
    "k : number of clusters\n",
    "labels : documents labels\n",
    "pred : list of clustering predicted clusters \n",
    "\n",
    "''';"
   ]
  },
  {
   "cell_type": "code",
   "execution_count": 13,
   "id": "e77a0f00",
   "metadata": {},
   "outputs": [],
   "source": [
    "def dim_red(mat, p):\n",
    "    '''\n",
    "    Perform dimensionality reduction\n",
    "\n",
    "    Input:\n",
    "    -----\n",
    "        mat : NxM list \n",
    "        p : number of dimensions to keep \n",
    "    Output:\n",
    "    ------\n",
    "        red_mat : NxP list such that p<<m\n",
    "    '''\n",
    "        # Convert the input to a NumPy array\n",
    "    mat_array = np.array(mat)\n",
    "    \n",
    "    # Initialize PCA with the desired number of components\n",
    "    pca = PCA(n_components=p)\n",
    "    \n",
    "    # Fit the PCA model and transform the input matrix\n",
    "    red_mat = pca.fit_transform(mat_array)\n",
    "    \n",
    "    red_mat = mat[:,:p]\n",
    "    \n",
    "    return red_mat"
   ]
  },
  {
   "cell_type": "code",
   "execution_count": 14,
   "id": "9f2ae938",
   "metadata": {},
   "outputs": [],
   "source": [
    "def clust(mat, k):\n",
    "    '''\n",
    "    Perform clustering\n",
    "\n",
    "    Input:\n",
    "    -----\n",
    "        mat : input list \n",
    "        k : number of cluster\n",
    "    Output:\n",
    "    ------\n",
    "        pred : list of predicted labels\n",
    "    '''\n",
    "        # Convert the input list to a NumPy array\n",
    "    mat_array = np.array(mat).reshape(-1, 1)\n",
    "    \n",
    "    # Initialize KMeans with the desired number of clusters\n",
    "    kmeans = KMeans(n_clusters=k, random_state=0)\n",
    "    \n",
    "    # Fit the KMeans model and predict cluster labels\n",
    "    pred = kmeans.fit_predict(mat_array)\n",
    "    \n",
    "    pred = np.random.randint(k, size=len(corpus))\n",
    "    \n",
    "    return pred"
   ]
  },
  {
   "cell_type": "code",
   "execution_count": 18,
   "id": "a7ca9d2f",
   "metadata": {},
   "outputs": [
    {
     "name": "stderr",
     "output_type": "stream",
     "text": [
      "C:\\Users\\Hicham\\Anaconda3\\lib\\site-packages\\sklearn\\cluster\\_kmeans.py:870: FutureWarning: The default value of `n_init` will change from 10 to 'auto' in 1.4. Set the value of `n_init` explicitly to suppress the warning\n",
      "  warnings.warn(\n"
     ]
    },
    {
     "name": "stdout",
     "output_type": "stream",
     "text": [
      "NMI: 0.03 \n",
      "ARI: 0.00\n"
     ]
    }
   ],
   "source": [
    "\n",
    "# Your dim_red and clust functions here...\n",
    "\n",
    "ng20 = fetch_20newsgroups(subset='test')\n",
    "corpus = ng20.data[:2000]\n",
    "labels = ng20.target[:2000]\n",
    "k = len(set(labels))\n",
    "\n",
    "# embedding\n",
    "model = SentenceTransformer('paraphrase-MiniLM-L6-v2')\n",
    "embeddings = model.encode(corpus)\n",
    "\n",
    "# perform dimensionality reduction\n",
    "red_emb = dim_red(embeddings, 20)\n",
    "\n",
    "# perform clustering\n",
    "pred = clust(red_emb, k)\n",
    "\n",
    "# evaluate clustering results\n",
    "nmi_score = normalized_mutual_info_score(pred, labels)\n",
    "ari_score = adjusted_rand_score(pred, labels)\n",
    "\n",
    "print(f'NMI: {nmi_score:.2f} \\nARI: {ari_score:.2f}')\n"
   ]
  },
  {
   "cell_type": "code",
   "execution_count": null,
   "id": "8c3156ff",
   "metadata": {},
   "outputs": [],
   "source": []
  }
 ],
 "metadata": {
  "kernelspec": {
   "display_name": "Python 3 (ipykernel)",
   "language": "python",
   "name": "python3"
  },
  "language_info": {
   "codemirror_mode": {
    "name": "ipython",
    "version": 3
   },
   "file_extension": ".py",
   "mimetype": "text/x-python",
   "name": "python",
   "nbconvert_exporter": "python",
   "pygments_lexer": "ipython3",
   "version": "3.9.7"
  }
 },
 "nbformat": 4,
 "nbformat_minor": 5
}
